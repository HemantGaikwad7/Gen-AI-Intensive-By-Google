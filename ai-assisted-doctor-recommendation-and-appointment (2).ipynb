{
 "cells": [
  {
   "cell_type": "markdown",
   "id": "ea9d6fda",
   "metadata": {
    "papermill": {
     "duration": 0.005118,
     "end_time": "2025-04-20T09:12:07.663049",
     "exception": false,
     "start_time": "2025-04-20T09:12:07.657931",
     "status": "completed"
    },
    "tags": []
   },
   "source": [
    "# AI-Assisted Doctor Recommendation and Appointment Booking System"
   ]
  },
  {
   "cell_type": "markdown",
   "id": "33af2793",
   "metadata": {
    "papermill": {
     "duration": 0.004071,
     "end_time": "2025-04-20T09:12:07.671524",
     "exception": false,
     "start_time": "2025-04-20T09:12:07.667453",
     "status": "completed"
    },
    "tags": []
   },
   "source": [
    "## 🏥 Problem Statement: Fixing the Broken Appointment Booking Experience\n",
    "Every year, **20M+ patients are booked with the wrong doctor** due to flawed scheduling processes. This leads to wasted time, incorrect care, and lost trust in the healthcare system.\n",
    "\n",
    "Consider this:\n",
    "\n",
    "**Average wait time on hold:** 35+ minutes\n",
    "\n",
    "**88% of appointments** are still scheduled via phone\n",
    "\n",
    "Patients often **leave or skip care entirely** when they can't get through\n",
    "\n",
    "This is more than a scheduling issue — it’s a public health problem.\n",
    "\n",
    "💡 **My vision:** No patient should ever be booked with the wrong provider again."
   ]
  },
  {
   "cell_type": "markdown",
   "id": "08f9e25d",
   "metadata": {
    "papermill": {
     "duration": 0.003821,
     "end_time": "2025-04-20T09:12:07.679597",
     "exception": false,
     "start_time": "2025-04-20T09:12:07.675776",
     "status": "completed"
    },
    "tags": []
   },
   "source": [
    "## 💡 The Solution: Intelligent AI-Powered Appointment Scheduling\n",
    "In this notebook, I present a GenAI-powered approach to automate and optimize the scheduling workflow, using structured generation, few-shot prompting, and function calling.\n",
    "\n",
    "The solution addresses three key areas:\n",
    "\n",
    "Triage — Understand the patient's condition/symptoms to route to the right specialist\n",
    "\n",
    "Availability — Match with the correct doctor based on specialty + availability\n",
    "\n",
    "Booking — Schedule the appointment and send a confirmation via email"
   ]
  },
  {
   "cell_type": "markdown",
   "id": "1181c535",
   "metadata": {
    "papermill": {
     "duration": 0.00387,
     "end_time": "2025-04-20T09:12:07.687612",
     "exception": false,
     "start_time": "2025-04-20T09:12:07.683742",
     "status": "completed"
    },
    "tags": []
   },
   "source": [
    "## ⚙️ GenAI Capabilities Demonstrated\n",
    "This notebook showcases at least 3 GenAI capabilities:\n",
    "\n",
    "✅ Structured output / JSON mode — to return machine-readable scheduling data\n",
    "\n",
    "✅ Few-shot prompting — to improve accuracy of triage decisions\n",
    "\n",
    "✅ Function calling — to interact with real-time scheduling APIs and send confirmation emails\n",
    "\n",
    "✅ (Optional Bonus): If you include vector search or retrieval from a symptom-specialist mapping DB, that counts as RAG / vector search"
   ]
  },
  {
   "cell_type": "markdown",
   "id": "e062c499",
   "metadata": {
    "papermill": {
     "duration": 0.003761,
     "end_time": "2025-04-20T09:12:07.695334",
     "exception": false,
     "start_time": "2025-04-20T09:12:07.691573",
     "status": "completed"
    },
    "tags": []
   },
   "source": [
    "## 🧪 How It Works: Step-by-Step Breakdown\n",
    "Below, you'll find sections that walk through the entire workflow:\n",
    "\n",
    "Input patient symptoms\n",
    "\n",
    "Triage to correct department/specialist (via GenAI few-shot prompts)\n",
    "\n",
    "Fetch availability and construct structured appointment slot (via JSON mode)\n",
    "\n",
    "Function call to finalize booking + send email confirmation\n",
    "\n",
    "Each section contains:\n",
    "\n",
    "💬 Prompting logic\n",
    "\n",
    "🧠 LLM reasoning\n",
    "\n",
    "📤 Structured responses\n",
    "\n",
    "📩 API interactions"
   ]
  },
  {
   "cell_type": "markdown",
   "id": "49699ffb",
   "metadata": {
    "papermill": {
     "duration": 0.003796,
     "end_time": "2025-04-20T09:12:07.703240",
     "exception": false,
     "start_time": "2025-04-20T09:12:07.699444",
     "status": "completed"
    },
    "tags": []
   },
   "source": [
    "## ✅ Outcome\n",
    "By the end of this notebook, you'll see how we can:\n",
    "\n",
    "Eliminate the 35-minute phone wait\n",
    "\n",
    "Remove human error from triaging\n",
    "\n",
    "Deliver instant confirmation to the right doctor\n",
    "\n",
    "Reduce patient drop-off, delays, and medical misrouting"
   ]
  },
  {
   "cell_type": "code",
   "execution_count": 1,
   "id": "0ef334bd",
   "metadata": {
    "execution": {
     "iopub.execute_input": "2025-04-20T09:12:07.712768Z",
     "iopub.status.busy": "2025-04-20T09:12:07.712436Z",
     "iopub.status.idle": "2025-04-20T09:12:17.803949Z",
     "shell.execute_reply": "2025-04-20T09:12:17.802742Z"
    },
    "papermill": {
     "duration": 10.098607,
     "end_time": "2025-04-20T09:12:17.805886",
     "exception": false,
     "start_time": "2025-04-20T09:12:07.707279",
     "status": "completed"
    },
    "tags": []
   },
   "outputs": [
    {
     "name": "stdout",
     "output_type": "stream",
     "text": [
      "\u001b[2K   \u001b[90m━━━━━━━━━━━━━━━━━━━━━━━━━━━━━━━━━━━━━━━━\u001b[0m \u001b[32m144.7/144.7 kB\u001b[0m \u001b[31m4.9 MB/s\u001b[0m eta \u001b[36m0:00:00\u001b[0m\r\n",
      "\u001b[2K   \u001b[90m━━━━━━━━━━━━━━━━━━━━━━━━━━━━━━━━━━━━━━━━\u001b[0m \u001b[32m100.9/100.9 kB\u001b[0m \u001b[31m5.6 MB/s\u001b[0m eta \u001b[36m0:00:00\u001b[0m\r\n",
      "\u001b[?25hCollecting secure-smtplib\r\n",
      "  Downloading secure_smtplib-0.1.1-py2.py3-none-any.whl.metadata (511 bytes)\r\n",
      "Downloading secure_smtplib-0.1.1-py2.py3-none-any.whl (3.4 kB)\r\n",
      "Installing collected packages: secure-smtplib\r\n",
      "Successfully installed secure-smtplib-0.1.1\r\n"
     ]
    }
   ],
   "source": [
    "# !pip uninstall -qqy jupyterlab  # Remove unused conflicting packages\n",
    "!pip install -U -q \"google-genai==1.7.0\"\n",
    "!pip install secure-smtplib"
   ]
  },
  {
   "cell_type": "markdown",
   "id": "7b9d10b4",
   "metadata": {
    "papermill": {
     "duration": 0.004338,
     "end_time": "2025-04-20T09:12:17.815143",
     "exception": false,
     "start_time": "2025-04-20T09:12:17.810805",
     "status": "completed"
    },
    "tags": []
   },
   "source": [
    "Below Python code imports modules for sending emails:\n",
    "\n",
    "smtplib: Provides functionality for sending emails using the Simple Mail Transfer Protocol (SMTP).\n",
    "email.mime.text.MIMEText: Used to create email messages containing plain text.\n",
    "email.mime.multipart.MIMEMultipart: Used to create email messages that can contain multiple parts (e.g., plain text and attachments)."
   ]
  },
  {
   "cell_type": "code",
   "execution_count": 2,
   "id": "a2ba4f6c",
   "metadata": {
    "execution": {
     "iopub.execute_input": "2025-04-20T09:12:17.825644Z",
     "iopub.status.busy": "2025-04-20T09:12:17.825269Z",
     "iopub.status.idle": "2025-04-20T09:12:17.847268Z",
     "shell.execute_reply": "2025-04-20T09:12:17.846209Z"
    },
    "papermill": {
     "duration": 0.029335,
     "end_time": "2025-04-20T09:12:17.849039",
     "exception": false,
     "start_time": "2025-04-20T09:12:17.819704",
     "status": "completed"
    },
    "tags": []
   },
   "outputs": [],
   "source": [
    "import smtplib\n",
    "from email.mime.text import MIMEText\n",
    "from email.mime.multipart import MIMEMultipart"
   ]
  },
  {
   "cell_type": "code",
   "execution_count": 3,
   "id": "99a971ac",
   "metadata": {
    "execution": {
     "iopub.execute_input": "2025-04-20T09:12:17.859862Z",
     "iopub.status.busy": "2025-04-20T09:12:17.859131Z",
     "iopub.status.idle": "2025-04-20T09:12:19.107571Z",
     "shell.execute_reply": "2025-04-20T09:12:19.106742Z"
    },
    "papermill": {
     "duration": 1.25528,
     "end_time": "2025-04-20T09:12:19.109020",
     "exception": false,
     "start_time": "2025-04-20T09:12:17.853740",
     "status": "completed"
    },
    "tags": []
   },
   "outputs": [
    {
     "data": {
      "text/plain": [
       "'1.7.0'"
      ]
     },
     "execution_count": 3,
     "metadata": {},
     "output_type": "execute_result"
    }
   ],
   "source": [
    "from google import genai\n",
    "from google.genai import types\n",
    "\n",
    "genai.__version__"
   ]
  },
  {
   "cell_type": "code",
   "execution_count": 4,
   "id": "52e4f4df",
   "metadata": {
    "execution": {
     "iopub.execute_input": "2025-04-20T09:12:19.120163Z",
     "iopub.status.busy": "2025-04-20T09:12:19.119699Z",
     "iopub.status.idle": "2025-04-20T09:12:19.237887Z",
     "shell.execute_reply": "2025-04-20T09:12:19.236932Z"
    },
    "papermill": {
     "duration": 0.125611,
     "end_time": "2025-04-20T09:12:19.239604",
     "exception": false,
     "start_time": "2025-04-20T09:12:19.113993",
     "status": "completed"
    },
    "tags": []
   },
   "outputs": [],
   "source": [
    "from kaggle_secrets import UserSecretsClient\n",
    "\n",
    "GOOGLE_API_KEY = UserSecretsClient().get_secret(\"GOOGLE_API_KEY\")"
   ]
  },
  {
   "cell_type": "code",
   "execution_count": 5,
   "id": "43ec2e38",
   "metadata": {
    "execution": {
     "iopub.execute_input": "2025-04-20T09:12:19.250344Z",
     "iopub.status.busy": "2025-04-20T09:12:19.250034Z",
     "iopub.status.idle": "2025-04-20T09:12:19.524594Z",
     "shell.execute_reply": "2025-04-20T09:12:19.523762Z"
    },
    "papermill": {
     "duration": 0.281757,
     "end_time": "2025-04-20T09:12:19.526216",
     "exception": false,
     "start_time": "2025-04-20T09:12:19.244459",
     "status": "completed"
    },
    "tags": []
   },
   "outputs": [],
   "source": [
    "# Define a retry policy. The model might make multiple consecutive calls automatically\n",
    "# for a complex query, this ensures the client retries if it hits quota limits.\n",
    "from google.api_core import retry\n",
    "\n",
    "is_retriable = lambda e: (isinstance(e, genai.errors.APIError) and e.code in {429, 503})\n",
    "\n",
    "if not hasattr(genai.models.Models.generate_content, '__wrapped__'):\n",
    "  genai.models.Models.generate_content = retry.Retry(\n",
    "      predicate=is_retriable)(genai.models.Models.generate_content)"
   ]
  },
  {
   "cell_type": "code",
   "execution_count": 6,
   "id": "e21039bf",
   "metadata": {
    "execution": {
     "iopub.execute_input": "2025-04-20T09:12:19.536993Z",
     "iopub.status.busy": "2025-04-20T09:12:19.536552Z",
     "iopub.status.idle": "2025-04-20T09:12:22.249664Z",
     "shell.execute_reply": "2025-04-20T09:12:22.248743Z"
    },
    "papermill": {
     "duration": 2.720229,
     "end_time": "2025-04-20T09:12:22.251273",
     "exception": false,
     "start_time": "2025-04-20T09:12:19.531044",
     "status": "completed"
    },
    "tags": []
   },
   "outputs": [],
   "source": [
    "# ## Create Local Database\n",
    "# Create a local SQLite database to store patient, doctor, appointment, and availability data.\n",
    "\n",
    "%load_ext sql\n",
    "%sql sqlite:///healthcare.db"
   ]
  },
  {
   "cell_type": "markdown",
   "id": "02f3dcb4",
   "metadata": {
    "papermill": {
     "duration": 0.004314,
     "end_time": "2025-04-20T09:12:22.260325",
     "exception": false,
     "start_time": "2025-04-20T09:12:22.256011",
     "status": "completed"
    },
    "tags": []
   },
   "source": [
    "Now we will create tables and insert values in it\n",
    "The `doctors` table holds the core information about the medical professionals.\n",
    "* The `availability` table indicates when specific doctors are available for booking.\n",
    "* The `appointments` table records the details of the appointments that have been made, linking patients to specific doctors and dates.\n",
    "\n",
    "These three tables together form the basic structure for managing doctor information, their availability, and scheduled appointments in your healthcare system database."
   ]
  },
  {
   "cell_type": "code",
   "execution_count": 7,
   "id": "2524c932",
   "metadata": {
    "execution": {
     "iopub.execute_input": "2025-04-20T09:12:22.271708Z",
     "iopub.status.busy": "2025-04-20T09:12:22.271188Z",
     "iopub.status.idle": "2025-04-20T09:12:22.417993Z",
     "shell.execute_reply": "2025-04-20T09:12:22.417132Z"
    },
    "papermill": {
     "duration": 0.153971,
     "end_time": "2025-04-20T09:12:22.419199",
     "exception": false,
     "start_time": "2025-04-20T09:12:22.265228",
     "status": "completed"
    },
    "tags": []
   },
   "outputs": [
    {
     "name": "stdout",
     "output_type": "stream",
     "text": [
      " * sqlite:///healthcare.db\n",
      "Done.\n",
      "Done.\n",
      "Done.\n",
      "19 rows affected.\n",
      "1 rows affected.\n",
      "1 rows affected.\n",
      "1 rows affected.\n",
      "1 rows affected.\n",
      "1 rows affected.\n",
      "1 rows affected.\n",
      "1 rows affected.\n",
      "1 rows affected.\n",
      "1 rows affected.\n"
     ]
    },
    {
     "data": {
      "text/plain": [
       "[]"
      ]
     },
     "execution_count": 7,
     "metadata": {},
     "output_type": "execute_result"
    }
   ],
   "source": [
    "%%sql\n",
    "\n",
    "CREATE TABLE IF NOT EXISTS doctors (\n",
    "    doctor_id INTEGER PRIMARY KEY AUTOINCREMENT,\n",
    "    first_name VARCHAR(255) NOT NULL,\n",
    "    last_name VARCHAR(255) NOT NULL,\n",
    "    specialty VARCHAR(255) NOT NULL,\n",
    "    location VARCHAR(255) NOT NULL,\n",
    "    address VARCHAR(255) NOT NULL\n",
    "    -- You might include other relevant doctor information here,\n",
    "    -- such as contact details, etc.\n",
    ");\n",
    "\n",
    "CREATE TABLE IF NOT EXISTS availability (\n",
    "    availability_id INTEGER PRIMARY KEY AUTOINCREMENT,\n",
    "    doctor_id INTEGER NOT NULL,\n",
    "    available_date DATE NOT NULL,\n",
    "    FOREIGN KEY (doctor_id) REFERENCES doctors (doctor_id)\n",
    ");\n",
    "\n",
    "CREATE TABLE IF NOT EXISTS appointments (\n",
    "    patient_name VARCHAR(255) NOT NULL,\n",
    "    doctor_id INTEGER NOT NULL,\n",
    "    appointment_date DATE NOT NULL,\n",
    "    FOREIGN KEY (doctor_id) REFERENCES doctors (doctor_id)\n",
    ");\n",
    "\n",
    "-- Insert data into the 'doctors' table\n",
    "INSERT INTO doctors (first_name, last_name, specialty, location, address) VALUES\n",
    "    ('Eleanor', 'Vance', 'wrist specialist', 'Boston', '789 Oak St, Boston, MA'),\n",
    "    ('Michael', 'Chen', 'General Practitioner', 'Cambridge', '101 Pine Ave, Cambridge, MA'),\n",
    "    ('Sophia', 'Rodriguez', 'Dermatologist', 'Boston', '456 Elm St, Boston, MA'),\n",
    "    ('William', 'Davis', 'Cardiologist', 'Brookline', '222 Maple Dr, Brookline, MA'),\n",
    "    ('Olivia', 'Brown', 'Pediatrician', 'Boston', '888 Willow Ln, Boston, MA'),\n",
    "    ('James', 'Garcia', 'Neurologist', 'Cambridge', '333 Cedar Blvd, Cambridge, MA'),\n",
    "    ('Derek', 'Shepherd', 'Wrist Specialist', 'Boston', '123 Main St, Boston, MA'),\n",
    "    ('Rob', 'Sue', 'General Practitioner', 'Boston', '70 Commonwealth Ave, Boston, MA'),\n",
    "    ('Greg', 'Wilson', 'Shoulder Specialist', 'Boston', '1600 Huntington Avenue, Boston, MA'),\n",
    "    ('Alice', 'Smith', 'General Practitioner', 'Boston', '456 Oak Ave, Boston, MA'),\n",
    "    ('Bob', 'Johnson', 'Dermatologist', 'Boston', '789 Pine Ln, Boston, MA'),\n",
    "    ('Carol', 'Williams', 'Cardiologist', 'Boston', '101 Elm St, Boston, MA'),\n",
    "    ('David', 'Brown', 'Pediatrician', 'Boston', '222 Maple Dr, Boston, MA'),\n",
    "    ('Eve', 'Davis', 'Orthopedist', 'Boston', '333 Willow Ct, Boston, MA'),\n",
    "    ('Frank', 'Miller', 'Neurologist', 'Boston', '444 Birch Rd, Boston, MA'),\n",
    "    ('Grace', 'Wilson', 'Ophthalmologist', 'Boston', '555 Cedar Blvd, Boston, MA'),\n",
    "    ('Henry', 'Moore', 'Urologist', 'Boston', '666 Spruce Way, Boston, MA'),\n",
    "    ('Ivy', 'Taylor', 'Gastroenterologist', 'Boston', '777 Oak St, Boston, MA'),\n",
    "    ('Jack', 'Thomas', 'Pulmonologist', 'Boston', '888 Pine Ave, Boston, MA');\n",
    "\n",
    "-- Insert data into the 'availability' table for Eleanor Vance (Orthopedist)\n",
    "INSERT INTO availability (doctor_id, available_date) VALUES\n",
    "    ((select doctor_id from doctors WHERE first_name='Eleanor'), '2025-04-20');\n",
    "INSERT INTO availability (doctor_id, available_date) VALUES\n",
    "    ((select doctor_id from doctors WHERE first_name='Eleanor'), '2025-04-21');\n",
    "INSERT INTO availability (doctor_id, available_date) VALUES\n",
    "    ((select doctor_id from doctors WHERE first_name='Eleanor'), '2025-04-22');\n",
    "INSERT INTO availability (doctor_id, available_date) VALUES\n",
    "    ((select doctor_id from doctors WHERE first_name='Eleanor'), '2025-04-23');\n",
    "INSERT INTO availability (doctor_id, available_date) VALUES\n",
    "    ((select doctor_id from doctors WHERE first_name='Eleanor'), '2025-05-05');\n",
    "\n",
    "-- Insert data into the 'availability' table for Michael Chen (General Practitioner)\n",
    "INSERT INTO availability (doctor_id, available_date) VALUES\n",
    "    ((select doctor_id from doctors WHERE first_name='Michael'), '2025-04-20');\n",
    "INSERT INTO availability (doctor_id, available_date) VALUES\n",
    "    ((select doctor_id from doctors WHERE first_name='Michael'), '2025-04-24');\n",
    "INSERT INTO availability (doctor_id, available_date) VALUES\n",
    "    ((select doctor_id from doctors WHERE first_name='Michael'), '2025-04-25');\n",
    "INSERT INTO availability (doctor_id, available_date) VALUES\n",
    "    ((select doctor_id from doctors WHERE first_name='Michael'), '2025-04-26');\n"
   ]
  },
  {
   "cell_type": "code",
   "execution_count": 8,
   "id": "b8a8b6b7",
   "metadata": {
    "execution": {
     "iopub.execute_input": "2025-04-20T09:12:22.429862Z",
     "iopub.status.busy": "2025-04-20T09:12:22.429575Z",
     "iopub.status.idle": "2025-04-20T09:12:22.434059Z",
     "shell.execute_reply": "2025-04-20T09:12:22.433424Z"
    },
    "papermill": {
     "duration": 0.011202,
     "end_time": "2025-04-20T09:12:22.435254",
     "exception": false,
     "start_time": "2025-04-20T09:12:22.424052",
     "status": "completed"
    },
    "tags": []
   },
   "outputs": [],
   "source": [
    "# ## Define Database Functions\n",
    "# Define functions for database interactions, used by the AI agent via function calling.\n",
    "\n",
    "\n",
    "import sqlite3\n",
    "\n",
    "db_file = \"healthcare.db\"\n",
    "db_conn = sqlite3.connect(db_file)"
   ]
  },
  {
   "cell_type": "markdown",
   "id": "a6ca25de",
   "metadata": {
    "papermill": {
     "duration": 0.005063,
     "end_time": "2025-04-20T09:12:22.445182",
     "exception": false,
     "start_time": "2025-04-20T09:12:22.440119",
     "status": "completed"
    },
    "tags": []
   },
   "source": [
    "## Code Summary\n",
    "\n",
    "**1. `map_injury_to_specialty(injury: str) -> List[str]`:**\n",
    "   - Maps a patient's injury to a list of relevant medical specialties using a predefined dictionary and potentially embeddings for unknown injuries (simplified in the example).\n",
    "\n",
    "**2. `search_doctors_by_specialty(specialty: str, location: str) -> List[Dict]`:**\n",
    "   - Searches the `doctors` database table for doctors matching a given specialty and location.\n",
    "   - Returns a list of dictionaries, each containing basic doctor information (ID, name, specialty, address).\n",
    "\n",
    "**3. `check_doctor_availability(doctor_name: str, date: str) -> List[Dict]`:**\n",
    "   - Checks the availability of a specific doctor (by name) on a given date.\n",
    "   - Also lists other doctors in the same specialty who are available on that date.\n",
    "   - Returns a dictionary containing the target doctor's availability and a list of other available doctors.\n",
    "\n",
    "**4. `book_appointment(patient_name: str, doctor_name: str, appointment_date: str) -> Dict`:**\n",
    "   - Books an appointment for a patient with a specified doctor on a given date.\n",
    "   - Checks doctor availability before booking.\n",
    "   - Adds a new record to the `appointments` database table.\n",
    "   - Returns a dictionary indicating the success or failure of the booking.\n",
    "\n",
    "**5. `send_email_confirmation(patient_name: str, doctor_name: str, appointment_date: str, recipient_email: str) -> str`:**\n",
    "   - Sends an email confirmation to the patient after an appointment is booked.\n",
    "   - Uses the `smtplib` library to connect to an SMTP server (Gmail in this case) and send the confirmation email.\n",
    "   - Returns a message indicating whether the email was sent successfully.\n",
    "\n",
    "## Note : Replace password or passkey in login method"
   ]
  },
  {
   "cell_type": "code",
   "execution_count": 9,
   "id": "578b44aa",
   "metadata": {
    "execution": {
     "iopub.execute_input": "2025-04-20T09:12:22.456059Z",
     "iopub.status.busy": "2025-04-20T09:12:22.455748Z",
     "iopub.status.idle": "2025-04-20T09:12:22.473457Z",
     "shell.execute_reply": "2025-04-20T09:12:22.472722Z"
    },
    "papermill": {
     "duration": 0.025079,
     "end_time": "2025-04-20T09:12:22.474868",
     "exception": false,
     "start_time": "2025-04-20T09:12:22.449789",
     "status": "completed"
    },
    "tags": []
   },
   "outputs": [],
   "source": [
    "from typing import List, Dict\n",
    "# 1. Medical Specialty Mapping Function\n",
    "def map_injury_to_specialty(injury: str) -> List[str]:\n",
    "    \"\"\"Map patient's injury to relevant medical specialties using both rules and embeddings\"\"\"\n",
    "    medical_mapping = {\n",
    "        \"wrist pain\": [\"wrist specialist\",\"orthopedics\"],\n",
    "        \"migraine\": [\"neurology\", \"general practice\"],\n",
    "        \"chest pain\": [\"cardiology\", \"emergency medicine\"],\n",
    "        \"rash\": [\"dermatology\"],\n",
    "        \"asthma\": [\"pulmonology\", \"allergy\"],\n",
    "        \"depression\": [\"psychiatry\", \"psychology\"]\n",
    "    }\n",
    "    \n",
    "    # Fallback to embeddings for unknown injuries\n",
    "    if injury.lower() not in medical_mapping:\n",
    "        # Use embeddings to find similar known injuries\n",
    "        embedding = genai.embed_content(\n",
    "            model=\"models/embedding-001\",\n",
    "            content=injury,\n",
    "            task_type=\"retrieval_document\"\n",
    "        ).embedding\n",
    "        \n",
    "        # This would normally query a vector store of medical knowledge\n",
    "        # Simplified example:\n",
    "        return [\"general practice\"]  # Default to GP for unknown cases\n",
    "        \n",
    "    return medical_mapping[injury.lower()]\n",
    "\n",
    "\n",
    "def search_doctors_by_specialty(specialty: str, location: str) -> List[Dict]:\n",
    "    \"\"\"\n",
    "    Search for doctors by medical specialty and location.\n",
    "    Returns a list of doctors with their basic information (name, specialty, address).\n",
    "    Note: Availability information is not available as the 'availability' table has been removed.\n",
    "    \"\"\"\n",
    "    print(f' - DB CALL: search_doctors_by_specialty({specialty}, {location})')\n",
    "\n",
    "    try:\n",
    "        cursor = db_conn.cursor()\n",
    "        cursor.execute(\"\"\"\n",
    "            SELECT doctor_id,\n",
    "                   first_name || ' ' || last_name AS name,\n",
    "                   specialty,\n",
    "                   address\n",
    "            FROM doctors\n",
    "            WHERE specialty = ?\n",
    "            AND location = ?\n",
    "        \"\"\", (specialty, location))\n",
    "\n",
    "        doctors = []\n",
    "        for row in cursor.fetchall():\n",
    "            doctor = {\n",
    "                \"doctor_id\": row[0],\n",
    "                \"name\": row[1],\n",
    "                \"specialty\": row[2],\n",
    "                \"address\": row[3],\n",
    "            }\n",
    "            doctors.append(doctor)\n",
    "\n",
    "        return doctors\n",
    "\n",
    "    except sqlite3.Error as e:\n",
    "        print(f\"Database error: {str(e)}\")\n",
    "        return []\n",
    "\n",
    "def check_doctor_availability(doctor_name: str, date: str) -> List[Dict]:\n",
    "    \"\"\"\n",
    "    Check availability for a specific doctor (by name) on a given date and also\n",
    "    list other doctors in the same specialty who are available on that date.\n",
    "    Returns a dictionary containing the target doctor's availability and a list\n",
    "    of other available doctors in the same specialty.\n",
    "    \"\"\"\n",
    "    print(f' - DB CALL: check_doctor_availability({doctor_name}, {date})')\n",
    "\n",
    "    try:\n",
    "        cursor = db_conn.cursor()\n",
    "\n",
    "        # Get the doctor's ID, specialty, and location by name\n",
    "        cursor.execute(\"\"\"\n",
    "            SELECT doctor_id, specialty, location\n",
    "            FROM doctors\n",
    "            WHERE first_name || ' ' || last_name = ?\n",
    "        \"\"\", (doctor_name,))\n",
    "        doctor_info = cursor.fetchone()\n",
    "\n",
    "        if not doctor_info:\n",
    "            return {\"error\": f\"Doctor with name '{doctor_name}' not found\"}\n",
    "\n",
    "        doctor_id = doctor_info[0]\n",
    "        specialty = doctor_info[1]\n",
    "        location = doctor_info[2]\n",
    "\n",
    "        # Get availability for the specific doctor\n",
    "        cursor.execute(\"\"\"\n",
    "            SELECT available_date\n",
    "            FROM availability\n",
    "            WHERE doctor_id = ?\n",
    "            AND available_date = ?\n",
    "        \"\"\", (doctor_id, date))\n",
    "        availability = [{\"available_date\": row[0]} for row in cursor.fetchall()]\n",
    "\n",
    "        other_doctors = []\n",
    "        # Find other doctors in the same specialty available on the same date\n",
    "        cursor.execute(\"\"\"\n",
    "            SELECT d.doctor_id, d.first_name || ' ' || d.last_name AS name\n",
    "            FROM doctors d\n",
    "            JOIN availability a ON d.doctor_id = a.doctor_id\n",
    "            WHERE d.specialty = ?\n",
    "              AND d.location = ?\n",
    "              AND a.available_date = ?\n",
    "              AND d.first_name || ' ' || d.last_name != ?\n",
    "        \"\"\", (specialty, location, date, doctor_name))\n",
    "\n",
    "        other_doctors = [{\"doctor_id\": row[0], \"name\": row[1]} for row in cursor.fetchall()]\n",
    "\n",
    "        return {\n",
    "            \"availability\": availability if availability else [{\"status\": \"No availability for this doctor\"}],\n",
    "            \"other_available_doctors\": other_doctors\n",
    "        }\n",
    "\n",
    "    except ValueError:\n",
    "        print(\"Invalid date format. Use YYYY-MM-DD\")\n",
    "        return {\"error\": \"Invalid date format\"}\n",
    "    except sqlite3.Error as e:\n",
    "        print(f\"Database error: {str(e)}\")\n",
    "        return {\"error\": str(e)}\n",
    "\n",
    "def book_appointment(patient_name: str, doctor_name: str, appointment_date: str) -> Dict:\n",
    "    \"\"\"Books an appointment for a patient with a specific doctor on a given date.\"\"\"\n",
    "    print(f' - DB CALL: book_appointment({patient_name}, {doctor_name}, {appointment_date})')\n",
    "    try:\n",
    "        cursor = db_conn.cursor()\n",
    "\n",
    "        # Get doctor's ID from the name\n",
    "        cursor.execute(\"\"\"\n",
    "            SELECT doctor_id\n",
    "            FROM doctors\n",
    "            WHERE first_name || ' ' || last_name = ?\n",
    "        \"\"\", (doctor_name,))\n",
    "        doctor_info = cursor.fetchone()\n",
    "\n",
    "        if not doctor_info:\n",
    "            return {\"error\": f\"Doctor with name '{doctor_name}' not found\"}\n",
    "        doctor_id = doctor_info[0]\n",
    "\n",
    "        # Check if the doctor is available on the given date\n",
    "        cursor.execute(\"\"\"\n",
    "            SELECT available_date\n",
    "            FROM availability\n",
    "            WHERE doctor_id = ?\n",
    "            AND available_date = ?\n",
    "        \"\"\", (doctor_id, appointment_date))\n",
    "        availability = cursor.fetchone()\n",
    "\n",
    "        if not availability:\n",
    "            return {\"error\": f\"Doctor '{doctor_name}' is not available on {appointment_date}\"}\n",
    "\n",
    "        # Insert the appointment into an 'appointments' table (assuming it exists)\n",
    "        cursor.execute(\"\"\"\n",
    "            INSERT INTO appointments (patient_name, doctor_id, appointment_date)\n",
    "            VALUES (?, ?, ?)\n",
    "        \"\"\", (patient_name, doctor_id, appointment_date))\n",
    "        db_conn.commit()\n",
    "\n",
    "        return {\n",
    "            \"success\": True,\n",
    "            \"message\": f\"Appointment booked for {patient_name} with Dr. {doctor_name} on {appointment_date}\"\n",
    "        }\n",
    "\n",
    "    except sqlite3.Error as e:\n",
    "        db_conn.rollback()\n",
    "        print(f\"Database error: {str(e)}\")\n",
    "        return {\"error\": str(e)}\n",
    "\n",
    "def send_email_confirmation(patient_name: str, doctor_name: str, appointment_date: str, recipient_email: str) -> str:\n",
    "    \"\"\"Sends an email confirmation for the appointment.\"\"\"\n",
    "    print(f' - FUNCTION CALL: send_email_confirmation({patient_name}, {doctor_name}, {appointment_date}, {recipient_email})')\n",
    "\n",
    "    subject = \"Appointment Confirmation\"\n",
    "    body = f\"\"\"\n",
    "Dear {patient_name},\n",
    "\n",
    "Your appointment has been successfully booked:\n",
    "- Doctor: Dr. {doctor_name}\n",
    "- Date: {appointment_date}\n",
    "\n",
    "Thank you for using our service.\n",
    "\n",
    "Best regards,\n",
    "Healthcare System\n",
    "\"\"\"\n",
    "\n",
    "    msg = MIMEMultipart()\n",
    "    msg['From'] = 'hemantoptional@gmail.com'\n",
    "    msg['To'] = recipient_email\n",
    "    msg['Subject'] = subject\n",
    "    msg.attach(MIMEText(body, 'plain'))\n",
    "\n",
    "    try:\n",
    "        with smtplib.SMTP_SSL('smtp.gmail.com', 465) as server:  # Use 'as server'\n",
    "            # server.ehlo()  # Not always necessary with SMTP_SSL\n",
    "            server.login('hemantoptional@gmail.com', 'chln luic svyq vjrr') #replace with passkey\n",
    "            server.sendmail('hemantoptional@gmail.com', recipient_email, msg.as_string())  # Use the sender's email directly\n",
    "        return f\"Email confirmation sent to {recipient_email}\"\n",
    "    except Exception as e:\n",
    "        return f\"Error sending email: {e}\"\n"
   ]
  },
  {
   "cell_type": "code",
   "execution_count": 10,
   "id": "cda82895",
   "metadata": {
    "execution": {
     "iopub.execute_input": "2025-04-20T09:12:22.485794Z",
     "iopub.status.busy": "2025-04-20T09:12:22.485165Z",
     "iopub.status.idle": "2025-04-20T09:12:22.843585Z",
     "shell.execute_reply": "2025-04-20T09:12:22.842757Z"
    },
    "papermill": {
     "duration": 0.365456,
     "end_time": "2025-04-20T09:12:22.845099",
     "exception": false,
     "start_time": "2025-04-20T09:12:22.479643",
     "status": "completed"
    },
    "tags": []
   },
   "outputs": [],
   "source": [
    "# These are the Python functions defined above.\n",
    "db_tools=[map_injury_to_specialty,search_doctors_by_specialty,check_doctor_availability,book_appointment,send_email_confirmation]\n",
    "# 3. System Instructions\n",
    "instruction = \"\"\"You are a medical guidance assistant that helps patients find appropriate care. Follow these steps:\n",
    "\n",
    "1. Interpret the patient's described symptoms/injury\n",
    "2. Determine appropriate medical specialties using map_injury_to_specialty\n",
    "3. Search for doctors in that specialty using search_doctors_by_specialty\n",
    "4. Check if doctor is available using check_doctor_availability if no doctor available then recommend General Practitioner in that areac\n",
    "5. Book an appointment with the doctor using book_appointment\n",
    "6. Ask user for email address and send an email to user's email address using send_email_confirmation \n",
    "5. Present options with locations\n",
    "\n",
    "For emergencies (chest pain, stroke symptoms, etc.):\n",
    "- Immediately call get_emergency_instructions\n",
    "- Recommend visiting ER\n",
    "\n",
    "Always:\n",
    "- Maintain empathetic tone\n",
    "\"\"\"\n",
    "\n",
    "# 4. Example Usage\n",
    "client = genai.Client(api_key=GOOGLE_API_KEY)\n",
    "# Start a chat with automatic function calling enabled.\n",
    "chat = client.chats.create(\n",
    "    model=\"gemini-2.0-flash\",\n",
    "    config=types.GenerateContentConfig(\n",
    "        system_instruction=instruction,\n",
    "        tools=db_tools,\n",
    "    ),\n",
    ")\n",
    "history=[]\n"
   ]
  },
  {
   "cell_type": "code",
   "execution_count": 11,
   "id": "7b1cea7a",
   "metadata": {
    "execution": {
     "iopub.execute_input": "2025-04-20T09:12:22.856111Z",
     "iopub.status.busy": "2025-04-20T09:12:22.855527Z",
     "iopub.status.idle": "2025-04-20T09:12:24.531578Z",
     "shell.execute_reply": "2025-04-20T09:12:24.530595Z"
    },
    "papermill": {
     "duration": 1.682949,
     "end_time": "2025-04-20T09:12:24.533017",
     "exception": false,
     "start_time": "2025-04-20T09:12:22.850068",
     "status": "completed"
    },
    "tags": []
   },
   "outputs": [
    {
     "name": "stdout",
     "output_type": "stream",
     "text": [
      "\n",
      "Step 1: Patient describes condition\n",
      "OK. Based on your wrist pain, I recommend seeing a wrist specialist or an orthopedist. I can search for doctors in either of those specialties in Boston. Would you prefer a wrist specialist or an orthopedist?\n",
      "\n"
     ]
    }
   ],
   "source": [
    "patient_input=\"I fell and have severe wrist pain in Boston\"\n",
    "response = chat.send_message(\n",
    "    patient_input\n",
    ")\n",
    "history.append({\"type\": \"condition\", \"answer\": patient_input})\n",
    "print(\"\\nStep 1: Patient describes condition\")\n",
    "print(response.text)"
   ]
  },
  {
   "cell_type": "code",
   "execution_count": 12,
   "id": "736597cf",
   "metadata": {
    "execution": {
     "iopub.execute_input": "2025-04-20T09:12:24.544293Z",
     "iopub.status.busy": "2025-04-20T09:12:24.543677Z",
     "iopub.status.idle": "2025-04-20T09:12:26.532160Z",
     "shell.execute_reply": "2025-04-20T09:12:26.531141Z"
    },
    "papermill": {
     "duration": 1.995682,
     "end_time": "2025-04-20T09:12:26.533624",
     "exception": false,
     "start_time": "2025-04-20T09:12:24.537942",
     "status": "completed"
    },
    "tags": []
   },
   "outputs": [
    {
     "name": "stdout",
     "output_type": "stream",
     "text": [
      " - DB CALL: search_doctors_by_specialty(wrist specialist, Boston)\n",
      " - DB CALL: check_doctor_availability(Eleanor Vance, 2025-05-05)\n",
      "\n",
      "Step 1: Patient describes condition\n",
      "Great! Eleanor Vance is available on 2025-05-05. Can I book an appointment for you? I will need your name.\n",
      "\n"
     ]
    }
   ],
   "source": [
    "patient_input=\"Please check if wrist specialist is available on 2025-05-05 if yes then book and appointment\"\n",
    "response = chat.send_message(\n",
    "    patient_input\n",
    ")\n",
    "history.append({\"type\": \"condition\", \"answer\": patient_input})\n",
    "print(\"\\nStep 1: Patient describes condition\")\n",
    "print(response.text)"
   ]
  },
  {
   "cell_type": "code",
   "execution_count": 13,
   "id": "d9a2ec99",
   "metadata": {
    "execution": {
     "iopub.execute_input": "2025-04-20T09:12:26.544984Z",
     "iopub.status.busy": "2025-04-20T09:12:26.544725Z",
     "iopub.status.idle": "2025-04-20T09:12:28.204868Z",
     "shell.execute_reply": "2025-04-20T09:12:28.204185Z"
    },
    "papermill": {
     "duration": 1.667417,
     "end_time": "2025-04-20T09:12:28.206306",
     "exception": false,
     "start_time": "2025-04-20T09:12:26.538889",
     "status": "completed"
    },
    "tags": []
   },
   "outputs": [
    {
     "name": "stdout",
     "output_type": "stream",
     "text": [
      " - DB CALL: book_appointment(Hemant Gaikwad, Eleanor Vance, 2025-05-05)\n",
      "\n",
      "Step 1: Patient describes condition\n",
      "I have booked an appointment for you with Eleanor Vance on 2025-05-05. Finally, I will send you an email confirmation. What is your email address?\n",
      "\n"
     ]
    }
   ],
   "source": [
    "patient_input=\" My name is Hemant Gaikwad \"\n",
    "response = chat.send_message(\n",
    "    patient_input\n",
    ")\n",
    "history.append({\"type\": \"condition\", \"answer\": patient_input})\n",
    "print(\"\\nStep 1: Patient describes condition\")\n",
    "print(response.text)"
   ]
  },
  {
   "cell_type": "code",
   "execution_count": 14,
   "id": "d4cd0875",
   "metadata": {
    "execution": {
     "iopub.execute_input": "2025-04-20T09:12:28.218366Z",
     "iopub.status.busy": "2025-04-20T09:12:28.217574Z",
     "iopub.status.idle": "2025-04-20T09:12:31.923328Z",
     "shell.execute_reply": "2025-04-20T09:12:31.922401Z"
    },
    "papermill": {
     "duration": 3.713255,
     "end_time": "2025-04-20T09:12:31.924889",
     "exception": false,
     "start_time": "2025-04-20T09:12:28.211634",
     "status": "completed"
    },
    "tags": []
   },
   "outputs": [
    {
     "name": "stdout",
     "output_type": "stream",
     "text": [
      " - FUNCTION CALL: send_email_confirmation(Hemant Gaikwad, Eleanor Vance, 2025-05-05, hemant.gaikwad@somaiya.edu)\n",
      "\n",
      "Step 1: Patient describes condition\n",
      "OK, Hemant. I have sent an email confirmation to hemant.gaikwad@somaiya.edu. Is there anything else I can help you with?\n",
      "\n"
     ]
    }
   ],
   "source": [
    "patient_input=\" my email address is hemant.gaikwad@somaiya.edu \"\n",
    "response = chat.send_message(\n",
    "    patient_input\n",
    ")\n",
    "history.append({\"type\": \"condition\", \"answer\": patient_input})\n",
    "print(\"\\nStep 1: Patient describes condition\")\n",
    "print(response.text)"
   ]
  }
 ],
 "metadata": {
  "kaggle": {
   "accelerator": "none",
   "dataSources": [
    {
     "sourceId": 97258,
     "sourceType": "competition"
    }
   ],
   "dockerImageVersionId": 31012,
   "isGpuEnabled": false,
   "isInternetEnabled": true,
   "language": "python",
   "sourceType": "notebook"
  },
  "kernelspec": {
   "display_name": "Python 3",
   "language": "python",
   "name": "python3"
  },
  "language_info": {
   "codemirror_mode": {
    "name": "ipython",
    "version": 3
   },
   "file_extension": ".py",
   "mimetype": "text/x-python",
   "name": "python",
   "nbconvert_exporter": "python",
   "pygments_lexer": "ipython3",
   "version": "3.11.11"
  },
  "papermill": {
   "default_parameters": {},
   "duration": 29.883715,
   "end_time": "2025-04-20T09:12:32.751629",
   "environment_variables": {},
   "exception": null,
   "input_path": "__notebook__.ipynb",
   "output_path": "__notebook__.ipynb",
   "parameters": {},
   "start_time": "2025-04-20T09:12:02.867914",
   "version": "2.6.0"
  }
 },
 "nbformat": 4,
 "nbformat_minor": 5
}
