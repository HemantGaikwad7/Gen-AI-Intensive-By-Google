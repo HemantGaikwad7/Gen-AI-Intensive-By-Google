{
 "cells": [
  {
   "cell_type": "code",
   "execution_count": null,
   "id": "0e1989f5",
   "metadata": {},
   "outputs": [],
   "source": [
    "!pip install sentence-transformers faiss-cpu openai langchain chromadb --quiet\n"
   ]
  },
  {
   "cell_type": "code",
   "execution_count": null,
   "id": "09d80410",
   "metadata": {},
   "outputs": [],
   "source": [
    "from sentence_transformers import SentenceTransformer\n",
    "from langchain.text_splitter import RecursiveCharacterTextSplitter\n",
    "import faiss\n",
    "import numpy as np\n",
    "import openai\n"
   ]
  },
  {
   "cell_type": "code",
   "execution_count": null,
   "id": "2c58b0d5",
   "metadata": {},
   "outputs": [],
   "source": [
    "# Replace this with your actual data\n",
    "raw_text = \"\"\"\n",
    "Dr. Smith is a cardiologist with 10 years of experience...\n",
    "Patients with diabetes should maintain a low glycemic index diet...\n",
    "\"\"\"\n",
    "\n",
    "text_splitter = RecursiveCharacterTextSplitter(chunk_size=500, chunk_overlap=50)\n",
    "documents = text_splitter.create_documents([raw_text])\n",
    "docs = [doc.page_content for doc in documents]\n"
   ]
  },
  {
   "cell_type": "code",
   "execution_count": null,
   "id": "9b1f1d03",
   "metadata": {},
   "outputs": [],
   "source": [
    "model = SentenceTransformer('all-MiniLM-L6-v2')\n",
    "doc_embeddings = model.encode(docs)\n"
   ]
  },
  {
   "cell_type": "code",
   "execution_count": null,
   "id": "d673aeb0",
   "metadata": {},
   "outputs": [],
   "source": [
    "dimension = len(doc_embeddings[0])\n",
    "index = faiss.IndexFlatL2(dimension)\n",
    "index.add(np.array(doc_embeddings))\n"
   ]
  },
  {
   "cell_type": "code",
   "execution_count": null,
   "id": "d924038e",
   "metadata": {},
   "outputs": [],
   "source": [
    "query = \"What should a diabetic patient eat?\"\n",
    "query_embedding = model.encode([query])\n",
    "_, indices = index.search(np.array(query_embedding), k=3)\n",
    "relevant_chunks = [docs[i] for i in indices[0]]\n",
    "print(\"Retrieved Chunks:\\n\", \"\\n---\\n\".join(relevant_chunks))\n"
   ]
  },
  {
   "cell_type": "code",
   "execution_count": null,
   "id": "deb2bd19",
   "metadata": {},
   "outputs": [],
   "source": [
    "openai.api_key = \"YOUR_OPENAI_API_KEY\"  # Replace with your actual key\n",
    "\n",
    "context = \"\\n\".join(relevant_chunks)\n",
    "prompt = f\"Context:\\n{context}\\n\\nQuestion: {query}\\nAnswer:\"\n",
    "\n",
    "response = openai.ChatCompletion.create(\n",
    "    model=\"gpt-3.5-turbo\",\n",
    "    messages=[{\"role\": \"user\", \"content\": prompt}]\n",
    ")\n",
    "\n",
    "print(\"LLM Response:\\n\", response['choices'][0]['message']['content'])\n"
   ]
  }
 ],
 "metadata": {},
 "nbformat": 4,
 "nbformat_minor": 5
}
